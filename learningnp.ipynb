{
 "cells": [
  {
   "cell_type": "markdown",
   "metadata": {},
   "source": [
    "# Learning numpy\n",
    "https://www.youtube.com/watch?v=DcfYgePyedM&t=1880s"
   ]
  },
  {
   "cell_type": "code",
   "execution_count": 1,
   "metadata": {},
   "outputs": [],
   "source": [
    "import numpy as np\n",
    "import matplotlib.pyplot as plt"
   ]
  },
  {
   "cell_type": "markdown",
   "metadata": {},
   "source": [
    "Array operations"
   ]
  },
  {
   "cell_type": "code",
   "execution_count": 2,
   "metadata": {},
   "outputs": [
    {
     "name": "stdout",
     "output_type": "stream",
     "text": [
      "[ 2  4  6  8 10 12 14 18  6 10]\n",
      "[False False False False False  True  True  True False False]\n",
      "[6 7 9]\n"
     ]
    }
   ],
   "source": [
    "a1 = np.array([1,2,3,4,5,6,7,9,3,5])\n",
    "\n",
    "print(2*a1)\n",
    "print(a1>5)\n",
    "print(a1[a1>5])"
   ]
  },
  {
   "cell_type": "code",
   "execution_count": 3,
   "metadata": {},
   "outputs": [],
   "source": [
    "x = np.linspace(0,1,101)\n",
    "y = x**2\n",
    "#print(x)\n",
    "#plt.plot(x,y)"
   ]
  },
  {
   "cell_type": "code",
   "execution_count": 4,
   "metadata": {},
   "outputs": [],
   "source": [
    "z = np.random.random(100)\n",
    "z = z*10\n",
    "bins = np.linspace(0,10,41)\n",
    "#plt.hist(z,bins = bins)"
   ]
  },
  {
   "cell_type": "code",
   "execution_count": 5,
   "metadata": {},
   "outputs": [],
   "source": [
    "def f(x):\n",
    "    return x**2 * np.sin(x) * np.exp(x)\n",
    "\n",
    "xs = np.linspace(0,10,101)\n",
    "ys = f(xs)\n",
    "#plt.plot(xs,ys)"
   ]
  },
  {
   "cell_type": "markdown",
   "metadata": {},
   "source": [
    "### Indexing and slicing"
   ]
  },
  {
   "cell_type": "code",
   "execution_count": 6,
   "metadata": {},
   "outputs": [
    {
     "name": "stdout",
     "output_type": "stream",
     "text": [
      "['ja']\n"
     ]
    }
   ],
   "source": [
    "a1 = np.array([1,2,3,4,5,6,7])\n",
    "# a1[2] = 3\n",
    "# a1[2:] = [3,4,5,6,7]\n",
    "#a1[2:-2] = [3,4,5]\n",
    "\n",
    "names = np.array([\"he\",\"ha\",\"ja\"])\n",
    "firstLetter = lambda s: s[0]\n",
    "index = np.vectorize(firstLetter)(names)=='j'\n",
    "js = names[index]\n",
    "print(js)"
   ]
  },
  {
   "cell_type": "code",
   "execution_count": 7,
   "metadata": {},
   "outputs": [
    {
     "data": {
      "text/plain": [
       "array([  4,   8, 244])"
      ]
     },
     "execution_count": 7,
     "metadata": {},
     "output_type": "execute_result"
    }
   ],
   "source": [
    "#divisible by 4\n",
    "nums = np.array([4,5,6,7,8,2,3,1,10,244])\n",
    "index = nums%4 == 0\n",
    "nums[index]"
   ]
  },
  {
   "cell_type": "markdown",
   "metadata": {},
   "source": [
    "### Calc and stats"
   ]
  },
  {
   "cell_type": "code",
   "execution_count": 8,
   "metadata": {},
   "outputs": [
    {
     "name": "stdout",
     "output_type": "stream",
     "text": [
      "10.034289663963087 1.962135613836035\n"
     ]
    },
    {
     "data": {
      "text/plain": [
       "11.674696180985299"
      ]
     },
     "execution_count": 8,
     "metadata": {},
     "output_type": "execute_result"
    }
   ],
   "source": [
    "a1 = 2*np.random.randn(1000) + 10\n",
    "print(np.mean(a1),np.std(a1))\n",
    "np.percentile(a1,80)"
   ]
  },
  {
   "cell_type": "markdown",
   "metadata": {},
   "source": [
    "integral rough"
   ]
  },
  {
   "cell_type": "code",
   "execution_count": 9,
   "metadata": {},
   "outputs": [
    {
     "data": {
      "text/plain": [
       "[<matplotlib.lines.Line2D at 0x2d2531cff10>]"
      ]
     },
     "execution_count": 9,
     "metadata": {},
     "output_type": "execute_result"
    },
    {
     "data": {
      "image/png": "[encoded data removed]",
      "text/plain": [
       "<Figure size 432x288 with 1 Axes>"
      ]
     },
     "metadata": {
      "needs_background": "light"
     },
     "output_type": "display_data"
    }
   ],
   "source": [
    "x = np.linspace(1,10,101)\n",
    "y = np.sin(x)/x**2\n",
    "\n",
    "dydx = np.gradient(y,x)\n",
    "\n",
    "integral = np.cumsum(y*0.1)\n",
    "\n",
    "plt.plot(x,y)\n",
    "plt.plot(x,dydx)\n",
    "plt.plot(x,integral)"
   ]
  },
  {
   "cell_type": "markdown",
   "metadata": {},
   "source": [
    "### mXn arrays"
   ]
  },
  {
   "cell_type": "code",
   "execution_count": 17,
   "metadata": {},
   "outputs": [
    {
     "name": "stdout",
     "output_type": "stream",
     "text": [
      "[4 6 8 2 3 4 9 9 9]\n",
      "[[False  True  True]\n",
      " [False False False]\n",
      " [ True  True  True]]\n",
      "[4 6 8]\n",
      "[6 3 9]\n"
     ]
    }
   ],
   "source": [
    "a1 = np.array([[4,6,8],[2,3,4],[9,9,9]])\n",
    "\n",
    "print(a1.ravel())\n",
    "print(a1>5)\n",
    "print(a1[0])\n",
    "print(a1[:,1])"
   ]
  },
  {
   "cell_type": "markdown",
   "metadata": {},
   "source": [
    "Meshgrids"
   ]
  },
  {
   "cell_type": "code",
   "execution_count": 35,
   "metadata": {},
   "outputs": [
    {
     "data": {
      "text/plain": [
       "<matplotlib.colorbar.Colorbar at 0x2d2572f3610>"
      ]
     },
     "execution_count": 35,
     "metadata": {},
     "output_type": "execute_result"
    },
    {
     "data": {
      "image/png": "[encoded data removed]",
      "text/plain": [
       "<Figure size 432x288 with 2 Axes>"
      ]
     },
     "metadata": {
      "needs_background": "light"
     },
     "output_type": "display_data"
    }
   ],
   "source": [
    "x = np.linspace(0,10,101)\n",
    "y = np.linspace(0,20,101)\n",
    "\n",
    "xv , yv = np.meshgrid(x,y)\n",
    "\n",
    "z = xv**2 + yv**2\n",
    "\n",
    "plt.contourf(xv,yv,z)\n",
    "plt.colorbar()"
   ]
  },
  {
   "cell_type": "markdown",
   "metadata": {},
   "source": [
    "### Basic linalg"
   ]
  },
  {
   "cell_type": "code",
   "execution_count": 37,
   "metadata": {},
   "outputs": [
    {
     "name": "stdout",
     "output_type": "stream",
     "text": [
      "[14 32 -2]\n",
      "[[ 1  4 -1]\n",
      " [ 2  5  1]\n",
      " [ 3  6 -1]]\n",
      "10\n",
      "[-4  8 -4]\n"
     ]
    }
   ],
   "source": [
    "A = np.array([[1,2,3],[4,5,6],[-1,1,-1]])\n",
    "b1 = np.array([1,2,3])\n",
    "b2 = np.array([3,2,1])\n",
    "\n",
    "# multiply\n",
    "print(A@b1)\n",
    "\n",
    "#transpose\n",
    "print(A.T)\n",
    "\n",
    "#dot and cross\n",
    "print(np.dot(b1,b2))\n",
    "print(np.cross(b1,b2))\n"
   ]
  },
  {
   "cell_type": "markdown",
   "metadata": {},
   "source": [
    "Solve system of equations"
   ]
  },
  {
   "cell_type": "code",
   "execution_count": 40,
   "metadata": {},
   "outputs": [
    {
     "name": "stdout",
     "output_type": "stream",
     "text": [
      "[-0.49056604  1.26415094  2.94339623]\n",
      "[ 5.98847677 -1.66137965 -5.32709712]\n",
      "[[-0.55522613 -0.36439757  0.25391074]\n",
      " [-0.49573499  0.43853605 -0.93677764]\n",
      " [-0.66781043  0.82152331 -0.24078411]]\n"
     ]
    }
   ],
   "source": [
    "A = np.array([[3,2,1],[5,-5,4],[6,0,1]])\n",
    "b = np.array([4,3,0])\n",
    "\n",
    "print(np.linalg.solve(A,b))\n",
    "\n",
    "(a,c)=np.linalg.eig(A)\n",
    "print(a)\n",
    "print(c)"
   ]
  },
  {
   "cell_type": "code",
   "execution_count": 54,
   "metadata": {},
   "outputs": [
    {
     "name": "stdout",
     "output_type": "stream",
     "text": [
      "[ 0. -0. -0.]\n"
     ]
    }
   ],
   "source": [
    "v1 = c[:,0]\n",
    "print( A@v1 - a[0]*v1)\n"
   ]
  }
 ],
 "metadata": {
  "kernelspec": {
   "display_name": "Python 3.10.5 64-bit",
   "language": "python",
   "name": "python3"
  },
  "language_info": {
   "codemirror_mode": {
    "name": "ipython",
    "version": 3
   },
   "file_extension": ".py",
   "mimetype": "text/x-python",
   "name": "python",
   "nbconvert_exporter": "python",
   "pygments_lexer": "ipython3",
   "version": "3.10.5"
  },
  "orig_nbformat": 4,
  "vscode": {
   "interpreter": {
    "hash": "90d99a365a6800d6d3b874802d775db992b69c47481bfc65e12294d647a46c22"
   }
  }
 },
 "nbformat": 4,
 "nbformat_minor": 2
}
