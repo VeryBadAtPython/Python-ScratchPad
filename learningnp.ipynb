{
 "cells": [
  {
   "cell_type": "markdown",
   "metadata": {},
   "source": [
    "# Learning numpy\n",
    "https://www.youtube.com/watch?v=DcfYgePyedM&t=1880s"
   ]
  },
  {
   "cell_type": "code",
   "execution_count": 1,
   "metadata": {},
   "outputs": [],
   "source": [
    "import numpy as np\n",
    "import matplotlib.pyplot as plt"
   ]
  },
  {
   "cell_type": "markdown",
   "metadata": {},
   "source": [
    "Array operations"
   ]
  },
  {
   "cell_type": "code",
   "execution_count": 2,
   "metadata": {},
   "outputs": [
    {
     "name": "stdout",
     "output_type": "stream",
     "text": [
      "[ 2  4  6  8 10 12 14 18  6 10]\n",
      "[False False False False False  True  True  True False False]\n",
      "[6 7 9]\n"
     ]
    }
   ],
   "source": [
    "a1 = np.array([1,2,3,4,5,6,7,9,3,5])\n",
    "\n",
    "print(2*a1)\n",
    "print(a1>5)\n",
    "print(a1[a1>5])"
   ]
  },
  {
   "cell_type": "code",
   "execution_count": 3,
   "metadata": {},
   "outputs": [
    {
     "data": {
      "text/plain": [
       "[<matplotlib.lines.Line2D at 0x1afee97f070>]"
      ]
     },
     "execution_count": 3,
     "metadata": {},
     "output_type": "execute_result"
    },
    {
     "data": {
      "image/png": "[encoded data removed]",
      "text/plain": [
       "<Figure size 432x288 with 1 Axes>"
      ]
     },
     "metadata": {
      "needs_background": "light"
     },
     "output_type": "display_data"
    }
   ],
   "source": [
    "x = np.linspace(0,1,101)\n",
    "y = x**2\n",
    "#print(x)\n",
    "plt.plot(x,y)"
   ]
  },
  {
   "cell_type": "code",
   "execution_count": 4,
   "metadata": {},
   "outputs": [
    {
     "data": {
      "text/plain": [
       "(array([0., 4., 3., 9., 2., 2., 3., 0., 0., 1., 5., 5., 2., 1., 3., 2., 2.,\n",
       "        1., 3., 3., 3., 3., 3., 1., 2., 5., 3., 2., 3., 2., 3., 2., 1., 1.,\n",
       "        2., 2., 4., 1., 4., 2.]),\n",
       " array([ 0.  ,  0.25,  0.5 ,  0.75,  1.  ,  1.25,  1.5 ,  1.75,  2.  ,\n",
       "         2.25,  2.5 ,  2.75,  3.  ,  3.25,  3.5 ,  3.75,  4.  ,  4.25,\n",
       "         4.5 ,  4.75,  5.  ,  5.25,  5.5 ,  5.75,  6.  ,  6.25,  6.5 ,\n",
       "         6.75,  7.  ,  7.25,  7.5 ,  7.75,  8.  ,  8.25,  8.5 ,  8.75,\n",
       "         9.  ,  9.25,  9.5 ,  9.75, 10.  ]),\n",
       " <BarContainer object of 40 artists>)"
      ]
     },
     "execution_count": 4,
     "metadata": {},
     "output_type": "execute_result"
    },
    {
     "data": {
      "image/png": "[encoded data removed]",
      "text/plain": [
       "<Figure size 432x288 with 1 Axes>"
      ]
     },
     "metadata": {
      "needs_background": "light"
     },
     "output_type": "display_data"
    }
   ],
   "source": [
    "z = np.random.random(100)\n",
    "z = z*10\n",
    "bins = np.linspace(0,10,41)\n",
    "plt.hist(z,bins = bins)"
   ]
  },
  {
   "cell_type": "code",
   "execution_count": 5,
   "metadata": {},
   "outputs": [
    {
     "data": {
      "text/plain": [
       "[<matplotlib.lines.Line2D at 0x1aff0b43a00>]"
      ]
     },
     "execution_count": 5,
     "metadata": {},
     "output_type": "execute_result"
    },
    {
     "data": {
      "image/png": "[encoded data removed]",
      "text/plain": [
       "<Figure size 432x288 with 1 Axes>"
      ]
     },
     "metadata": {
      "needs_background": "light"
     },
     "output_type": "display_data"
    }
   ],
   "source": [
    "def f(x):\n",
    "    return x**2 * np.sin(x) * np.exp(x)\n",
    "\n",
    "xs = np.linspace(0,10,101)\n",
    "ys = f(xs)\n",
    "plt.plot(xs,ys)"
   ]
  },
  {
   "cell_type": "markdown",
   "metadata": {},
   "source": [
    "### Indexing and slicing"
   ]
  },
  {
   "cell_type": "code",
   "execution_count": 6,
   "metadata": {},
   "outputs": [
    {
     "name": "stdout",
     "output_type": "stream",
     "text": [
      "['ja']\n"
     ]
    }
   ],
   "source": [
    "a1 = np.array([1,2,3,4,5,6,7])\n",
    "# a1[2] = 3\n",
    "# a1[2:] = [3,4,5,6,7]\n",
    "#a1[2:-2] = [3,4,5]\n",
    "\n",
    "names = np.array([\"he\",\"ha\",\"ja\"])\n",
    "firstLetter = lambda s: s[0]\n",
    "index = np.vectorize(firstLetter)(names)=='j'\n",
    "js = names[index]\n",
    "print(js)"
   ]
  },
  {
   "cell_type": "code",
   "execution_count": 7,
   "metadata": {},
   "outputs": [
    {
     "data": {
      "text/plain": [
       "array([  4,   8, 244])"
      ]
     },
     "execution_count": 7,
     "metadata": {},
     "output_type": "execute_result"
    }
   ],
   "source": [
    "#divisible by 4\n",
    "nums = np.array([4,5,6,7,8,2,3,1,10,244])\n",
    "index = nums%4 == 0\n",
    "nums[index]"
   ]
  },
  {
   "cell_type": "markdown",
   "metadata": {},
   "source": [
    "### Calc and stats"
   ]
  },
  {
   "cell_type": "code",
   "execution_count": 8,
   "metadata": {},
   "outputs": [
    {
     "name": "stdout",
     "output_type": "stream",
     "text": [
      "10.04108234933532 2.1227646272348606\n"
     ]
    },
    {
     "data": {
      "text/plain": [
       "11.800942022606586"
      ]
     },
     "execution_count": 8,
     "metadata": {},
     "output_type": "execute_result"
    }
   ],
   "source": [
    "a1 = 2*np.random.randn(1000) + 10\n",
    "print(np.mean(a1),np.std(a1))\n",
    "np.percentile(a1,80)"
   ]
  },
  {
   "cell_type": "markdown",
   "metadata": {},
   "source": [
    "integral rough"
   ]
  },
  {
   "cell_type": "code",
   "execution_count": 9,
   "metadata": {},
   "outputs": [
    {
     "data": {
      "text/plain": [
       "[<matplotlib.lines.Line2D at 0x1aff0bb3d90>]"
      ]
     },
     "execution_count": 9,
     "metadata": {},
     "output_type": "execute_result"
    },
    {
     "data": {
      "image/png": "[encoded data removed]",
      "text/plain": [
       "<Figure size 432x288 with 1 Axes>"
      ]
     },
     "metadata": {
      "needs_background": "light"
     },
     "output_type": "display_data"
    }
   ],
   "source": [
    "x = np.linspace(1,10,101)\n",
    "y = np.sin(x)/x**2\n",
    "\n",
    "dydx = np.gradient(y,x)\n",
    "\n",
    "integral = np.cumsum(y*0.1)\n",
    "\n",
    "plt.plot(x,y)\n",
    "plt.plot(x,dydx)\n",
    "plt.plot(x,integral)"
   ]
  }
 ],
 "metadata": {
  "kernelspec": {
   "display_name": "Python 3.10.5 64-bit",
   "language": "python",
   "name": "python3"
  },
  "language_info": {
   "codemirror_mode": {
    "name": "ipython",
    "version": 3
   },
   "file_extension": ".py",
   "mimetype": "text/x-python",
   "name": "python",
   "nbconvert_exporter": "python",
   "pygments_lexer": "ipython3",
   "version": "3.10.5"
  },
  "orig_nbformat": 4,
  "vscode": {
   "interpreter": {
    "hash": "90d99a365a6800d6d3b874802d775db992b69c47481bfc65e12294d647a46c22"
   }
  }
 },
 "nbformat": 4,
 "nbformat_minor": 2
}
